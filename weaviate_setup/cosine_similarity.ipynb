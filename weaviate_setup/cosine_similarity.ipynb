{
 "cells": [
  {
   "cell_type": "code",
   "execution_count": 1,
   "metadata": {},
   "outputs": [
    {
     "name": "stderr",
     "output_type": "stream",
     "text": [
      "c:\\Users\\Jayesh\\AppData\\Local\\Programs\\Python\\Python39\\lib\\site-packages\\tqdm\\auto.py:21: TqdmWarning: IProgress not found. Please update jupyter and ipywidgets. See https://ipywidgets.readthedocs.io/en/stable/user_install.html\n",
      "  from .autonotebook import tqdm as notebook_tqdm\n",
      "c:\\Users\\Jayesh\\AppData\\Local\\Programs\\Python\\Python39\\lib\\site-packages\\bitsandbytes\\cextension.py:34: UserWarning: The installed version of bitsandbytes was compiled without GPU support. 8-bit optimizers, 8-bit multiplication, and GPU quantization are unavailable.\n",
      "  warn(\"The installed version of bitsandbytes was compiled without GPU support. \"\n"
     ]
    },
    {
     "name": "stdout",
     "output_type": "stream",
     "text": [
      "'NoneType' object has no attribute 'cadam32bit_grad_fp32'\n"
     ]
    }
   ],
   "source": [
    "from PIL import Image\n",
    "from io import BytesIO\n",
    "from transformers import CLIPProcessor, CLIPModel, SegformerImageProcessor, AutoModelForSemanticSegmentation , AutoFeatureExtractor\n",
    "import torch\n",
    "import torch.nn as nn\n",
    "import numpy as np\n",
    "import pandas as pd\n",
    "import os\n",
    "import weaviate\n",
    "import numpy as np\n",
    "from numpy.linalg import norm\n",
    "import json\n",
    "import cv2\n",
    "import base64\n",
    "from time import sleep"
   ]
  },
  {
   "cell_type": "code",
   "execution_count": 2,
   "metadata": {},
   "outputs": [
    {
     "name": "stderr",
     "output_type": "stream",
     "text": [
      "c:\\Users\\Jayesh\\AppData\\Local\\Programs\\Python\\Python39\\lib\\site-packages\\transformers\\models\\segformer\\image_processing_segformer.py:99: FutureWarning: The `reduce_labels` parameter is deprecated and will be removed in a future version. Please use `do_reduce_labels` instead.\n",
      "  warnings.warn(\n"
     ]
    }
   ],
   "source": [
    "checkpoint = \"patrickjohncyh/fashion-clip\"\n",
    "model = CLIPModel.from_pretrained(checkpoint)\n",
    "processor = CLIPProcessor.from_pretrained(checkpoint)\n",
    "seg_processor = SegformerImageProcessor.from_pretrained(\"mattmdjaga/segformer_b2_clothes\")\n",
    "seg_model = AutoModelForSemanticSegmentation.from_pretrained(\"mattmdjaga/segformer_b2_clothes\")\n",
    "\n",
    "def getTextEmbeddings(text):\n",
    "\tinputs = processor(text=text , images=Image.new('RGB' , (72 , 72)), return_tensors=\"pt\", padding=True)\n",
    "\toutputs = model(**inputs , return_dict=True)\n",
    "\treturn outputs[\"text_embeds\"]"
   ]
  },
  {
   "cell_type": "code",
   "execution_count": 9,
   "metadata": {},
   "outputs": [],
   "source": [
    "\n",
    "embeddings = getTextEmbeddings(\"brown crop top with cargo pants\")"
   ]
  },
  {
   "cell_type": "code",
   "execution_count": null,
   "metadata": {},
   "outputs": [],
   "source": [
    "def cosine_similarity(vector1, vector2):\n",
    "    vector1 = np.array(vector1)\n",
    "    vector2 = np.array(vector2)\n",
    "    dot_product = np.dot(vector1, vector2)\n",
    "    norm1 = np.linalg.norm(vector1)\n",
    "    norm2 = np.linalg.norm(vector2)\n",
    "    return dot_product / (norm1 * norm2)"
   ]
  },
  {
   "cell_type": "code",
   "execution_count": 4,
   "metadata": {},
   "outputs": [],
   "source": [
    "client = weaviate.Client(url=\"http://localhost:8080\")"
   ]
  },
  {
   "cell_type": "code",
   "execution_count": 5,
   "metadata": {},
   "outputs": [],
   "source": [
    "where_filter1 = {\n",
    "    \"path\" : [\"category\"],\n",
    "    \"operator\" : \"Equal\",\n",
    "    \"valueText\" : \"girls_collegewear\"\n",
    "}"
   ]
  },
  {
   "cell_type": "code",
   "execution_count": 10,
   "metadata": {},
   "outputs": [],
   "source": [
    "response1 = (\n",
    "    client.query\n",
    "    # .get(\"FlipkartProducts\",[\"uRL\", \"brand\", \"category\", \"product\", \"price\", \"rating\", \"numberRatings\", \"colour\", \"row\"])\n",
    "    .get(\"PinterestImages\", [\"image\", \"top{... on PinterestTop { image, _additional {vector} }}\"])\n",
    "    .with_near_vector({\"vector\" : embeddings.tolist()[0]})\n",
    "    .with_where(where_filter1)\n",
    "    # .with_near_vector({\"vector\" : top_embedding})\n",
    "    .with_additional([\"vector\", \"id\", \"distance\"])\n",
    "    .with_limit(7)\n",
    "    .do()\n",
    ")"
   ]
  },
  {
   "cell_type": "code",
   "execution_count": 13,
   "metadata": {},
   "outputs": [],
   "source": [
    "top_embedding = response1[\"data\"][\"Get\"][\"PinterestImages\"][0][\"top\"][0]['_additional'][\"vector\"]"
   ]
  },
  {
   "cell_type": "code",
   "execution_count": 14,
   "metadata": {},
   "outputs": [],
   "source": [
    "where_filter = {\n",
    "    \"path\": [\"category\"],\n",
    "    \"operator\": \"Equal\",\n",
    "    \"valueText\" : \"Girls Tops\"\n",
    "\n",
    "}"
   ]
  },
  {
   "cell_type": "code",
   "execution_count": 1,
   "metadata": {},
   "outputs": [
    {
     "ename": "NameError",
     "evalue": "name 'client' is not defined",
     "output_type": "error",
     "traceback": [
      "\u001b[1;31m---------------------------------------------------------------------------\u001b[0m",
      "\u001b[1;31mNameError\u001b[0m                                 Traceback (most recent call last)",
      "Cell \u001b[1;32mIn[1], line 2\u001b[0m\n\u001b[0;32m      1\u001b[0m response \u001b[39m=\u001b[39m (\n\u001b[1;32m----> 2\u001b[0m     client\u001b[39m.\u001b[39mquery\n\u001b[0;32m      3\u001b[0m     \u001b[39m.\u001b[39mget(\u001b[39m\"\u001b[39m\u001b[39mFlipkartProducts\u001b[39m\u001b[39m\"\u001b[39m,[\u001b[39m\"\u001b[39m\u001b[39muRL\u001b[39m\u001b[39m\"\u001b[39m, \u001b[39m\"\u001b[39m\u001b[39mbrand\u001b[39m\u001b[39m\"\u001b[39m, \u001b[39m\"\u001b[39m\u001b[39mcategory\u001b[39m\u001b[39m\"\u001b[39m, \u001b[39m\"\u001b[39m\u001b[39mproduct\u001b[39m\u001b[39m\"\u001b[39m, \u001b[39m\"\u001b[39m\u001b[39mprice\u001b[39m\u001b[39m\"\u001b[39m, \u001b[39m\"\u001b[39m\u001b[39mrating\u001b[39m\u001b[39m\"\u001b[39m, \u001b[39m\"\u001b[39m\u001b[39mnumberRatings\u001b[39m\u001b[39m\"\u001b[39m, \u001b[39m\"\u001b[39m\u001b[39mcolour\u001b[39m\u001b[39m\"\u001b[39m, \u001b[39m\"\u001b[39m\u001b[39mrow\u001b[39m\u001b[39m\"\u001b[39m, \u001b[39m\"\u001b[39m\u001b[39mimage\u001b[39m\u001b[39m\"\u001b[39m])\n\u001b[0;32m      4\u001b[0m     \u001b[39m.\u001b[39mwith_where(where_filter)\n\u001b[0;32m      5\u001b[0m     \u001b[39m.\u001b[39mwith_near_vector({\u001b[39m\"\u001b[39m\u001b[39mvector\u001b[39m\u001b[39m\"\u001b[39m : top_embedding})\n\u001b[0;32m      6\u001b[0m     \u001b[39m# .with_near_vector({\"vector\" : embeddings.tolist()[0]})\u001b[39;00m\n\u001b[0;32m      7\u001b[0m     \u001b[39m.\u001b[39mwith_additional([\u001b[39m\"\u001b[39m\u001b[39mvector\u001b[39m\u001b[39m\"\u001b[39m, \u001b[39m\"\u001b[39m\u001b[39mid\u001b[39m\u001b[39m\"\u001b[39m, \u001b[39m\"\u001b[39m\u001b[39mdistance\u001b[39m\u001b[39m\"\u001b[39m])\n\u001b[0;32m      8\u001b[0m     \u001b[39m.\u001b[39mwith_limit(\u001b[39m5\u001b[39m)\n\u001b[0;32m      9\u001b[0m     \u001b[39m.\u001b[39mdo()\n\u001b[0;32m     10\u001b[0m )\n",
      "\u001b[1;31mNameError\u001b[0m: name 'client' is not defined"
     ]
    }
   ],
   "source": [
    "response = (\n",
    "    client.query\n",
    "    .get(\"FlipkartProducts\",[\"uRL\", \"brand\", \"category\", \"product\", \"price\", \"rating\", \"numberRatings\", \"colour\", \"row\", \"image\"])\n",
    "    .with_where(where_filter)\n",
    "    .with_near_vector({\"vector\" : top_embedding})\n",
    "    # .with_near_vector({\"vector\" : embeddings.tolist()[0]})\n",
    "    .with_additional([\"vector\", \"id\", \"distance\"])\n",
    "    .with_limit(5)\n",
    "    .do()\n",
    ")"
   ]
  },
  {
   "cell_type": "code",
   "execution_count": 12,
   "metadata": {},
   "outputs": [],
   "source": [
    "for i in range(15):\n",
    "    try:\n",
    "        # image = response[\"data\"][\"Get\"][\"FlipkartProducts\"][i]['image']\n",
    "        image = response1[\"data\"][\"Get\"][\"PinterestImages\"][i][\"top\"][0]['image']\n",
    "        # image = response1[\"data\"][\"Get\"][\"PinterestImages\"][i]['image']\n",
    "        image = Image.open(BytesIO(base64.b64decode(image.split(\",\",1)[0])))\n",
    "        image.show()\n",
    "    except:\n",
    "        pass"
   ]
  },
  {
   "cell_type": "code",
   "execution_count": null,
   "metadata": {},
   "outputs": [],
   "source": [
    "for i in range(15):\n",
    "    try:\n",
    "        image = response[\"data\"][\"Get\"][\"FlipkartProducts\"][i]['image']\n",
    "        # image = response1[\"data\"][\"Get\"][\"PinterestImages\"][i][\"top\"][0]['image']\n",
    "        # image = response1[\"data\"][\"Get\"][\"PinterestImages\"][i]['image']\n",
    "        image = Image.open(BytesIO(base64.b64decode(image.split(\",\",1)[0])))\n",
    "        image.show()\n",
    "    except:\n",
    "        pass"
   ]
  }
 ],
 "metadata": {
  "kernelspec": {
   "display_name": "Python 3",
   "language": "python",
   "name": "python3"
  },
  "language_info": {
   "codemirror_mode": {
    "name": "ipython",
    "version": 3
   },
   "file_extension": ".py",
   "mimetype": "text/x-python",
   "name": "python",
   "nbconvert_exporter": "python",
   "pygments_lexer": "ipython3",
   "version": "3.9.9"
  },
  "orig_nbformat": 4
 },
 "nbformat": 4,
 "nbformat_minor": 2
}
