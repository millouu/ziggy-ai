{
 "cells": [
  {
   "cell_type": "code",
   "execution_count": 1,
   "metadata": {},
   "outputs": [
    {
     "name": "stderr",
     "output_type": "stream",
     "text": [
      "c:\\Users\\Jayesh\\AppData\\Local\\Programs\\Python\\Python39\\lib\\site-packages\\tqdm\\auto.py:21: TqdmWarning: IProgress not found. Please update jupyter and ipywidgets. See https://ipywidgets.readthedocs.io/en/stable/user_install.html\n",
      "  from .autonotebook import tqdm as notebook_tqdm\n",
      "c:\\Users\\Jayesh\\AppData\\Local\\Programs\\Python\\Python39\\lib\\site-packages\\bitsandbytes\\cextension.py:34: UserWarning: The installed version of bitsandbytes was compiled without GPU support. 8-bit optimizers, 8-bit multiplication, and GPU quantization are unavailable.\n",
      "  warn(\"The installed version of bitsandbytes was compiled without GPU support. \"\n"
     ]
    },
    {
     "name": "stdout",
     "output_type": "stream",
     "text": [
      "'NoneType' object has no attribute 'cadam32bit_grad_fp32'\n"
     ]
    }
   ],
   "source": [
    "from PIL import Image\n",
    "from io import BytesIO\n",
    "from transformers import CLIPProcessor, CLIPModel, SegformerImageProcessor, AutoModelForSemanticSegmentation , AutoFeatureExtractor\n",
    "from urllib.parse import urlparse, urlunparse\n",
    "from weaviate.util import generate_uuid5\n",
    "import torch\n",
    "import torch.nn as nn\n",
    "import numpy as np\n",
    "import pandas as pd\n",
    "import os\n",
    "import weaviate\n",
    "import numpy as np\n",
    "from numpy.linalg import norm\n",
    "import json\n",
    "import cv2\n",
    "import base64\n",
    "from time import sleep\n",
    "import ast\n",
    "import re"
   ]
  },
  {
   "cell_type": "code",
   "execution_count": 2,
   "metadata": {},
   "outputs": [],
   "source": [
    "client = weaviate.Client(url=\"http://localhost:8080\")"
   ]
  },
  {
   "cell_type": "code",
   "execution_count": 3,
   "metadata": {},
   "outputs": [],
   "source": [
    "customer = open(\"customer.json\", \"r\")\n",
    "customer_class = json.load(customer)\n",
    "customer.close()\n",
    "client.schema.delete_class(\"Customer_Profile\")\n",
    "client.schema.create_class(customer_class)"
   ]
  },
  {
   "cell_type": "code",
   "execution_count": 4,
   "metadata": {},
   "outputs": [],
   "source": [
    "checkpoint = \"patrickjohncyh/fashion-clip\"\n",
    "model = CLIPModel.from_pretrained(checkpoint)\n",
    "processor = CLIPProcessor.from_pretrained(checkpoint)\n",
    "\n",
    "def getTextEmbeddings(text):\n",
    "\tinputs = processor(text=text , images=Image.new('RGB' , (72 , 72)), return_tensors=\"pt\", padding=True)\n",
    "\toutputs = model(**inputs , return_dict=True)\n",
    "\treturn outputs[\"text_embeds\"]"
   ]
  },
  {
   "cell_type": "code",
   "execution_count": null,
   "metadata": {},
   "outputs": [],
   "source": [
    "PATH = \"D:\\\\Codes\\\\ziggy-ai\\\\scraping\\\\Flipkart\""
   ]
  },
  {
   "cell_type": "code",
   "execution_count": null,
   "metadata": {},
   "outputs": [],
   "source": [
    "df1 = pd.read_csv(f\"{PATH}\\\\Girls Tops 1.csv\")\n",
    "df2 = pd.read_csv(f\"{PATH}\\\\Girls Tops 2.csv\")\n",
    "df3 = pd.read_csv(f\"{PATH}\\\\Girls Bottoms.csv\")\n",
    "df4 = pd.read_csv(f\"{PATH}\\\\Formal Shirts.csv\")\n",
    "df5 = pd.read_csv(f\"{PATH}\\\\Formal Pants.csv\")"
   ]
  },
  {
   "cell_type": "code",
   "execution_count": null,
   "metadata": {},
   "outputs": [],
   "source": [
    "user_profile1_top = []\n",
    "user_profile2_top = []\n",
    "user_profile3_top = []\n",
    "user_profile4_top = []\n",
    "user_profile1_bottom = []\n",
    "user_profile2_bottom = []\n",
    "user_profile3_bottom = []\n",
    "user_profile4_bottom = []"
   ]
  },
  {
   "cell_type": "code",
   "execution_count": null,
   "metadata": {},
   "outputs": [],
   "source": [
    "def clean_url(url):\n",
    "    parsed_url = urlparse(url)\n",
    "    cleaned_parsed_url = parsed_url._replace(query='')\n",
    "    cleaned_url = urlunparse(cleaned_parsed_url)\n",
    "    return cleaned_url\n",
    "\n",
    "def extract_first_amount(text):\n",
    "    amount_match = re.search(r'₹(\\d+)', text)\n",
    "    if amount_match:\n",
    "        first_amount = amount_match.group(1)\n",
    "        return int(first_amount)\n",
    "    else:\n",
    "        return None\n",
    "\n",
    "def get_rating_and_number(string1, string2):\n",
    "    rating = string1[0:(len(string1)-len(string2))]\n",
    "    ratings_match = re.search(r'([\\d,.]+) ratings', string2)\n",
    "    if ratings_match:\n",
    "        num_ratings = int(ratings_match.group(1).replace(',', ''))\n",
    "    else:\n",
    "        num_ratings = 0\n",
    "    return rating, num_ratings\n",
    "\n",
    "def get_product_details(dict_string):\n",
    "    dict = ast.literal_eval(dict_string)\n",
    "    keys_to_check = ['Color', 'Pattern', 'Fabric', 'Fit', 'Type']\n",
    "    new_dict = {key: dict.get(key, None) for key in keys_to_check}\n",
    "    return new_dict"
   ]
  },
  {
   "cell_type": "code",
   "execution_count": null,
   "metadata": {},
   "outputs": [],
   "source": [
    "def mean_pooling(vector_list):\n",
    "    vectors_array = np.array(vector_list)\n",
    "    mean_pooled_vector = np.mean(vectors_array, axis=0)\n",
    "    return mean_pooled_vector"
   ]
  },
  {
   "cell_type": "code",
   "execution_count": null,
   "metadata": {},
   "outputs": [],
   "source": [
    "def embed_product_details(product):\n",
    "    name = product['Name']\n",
    "    dict_string = get_product_details(product['Specifications'])\n",
    "    colour = dict_string['Color']\n",
    "    pattern = dict_string['Pattern']\n",
    "    fabric = dict_string['Fabric']\n",
    "    fit = dict_string['Fit']\n",
    "    type = dict_string['Type']\n",
    "    embedding = getTextEmbeddings(f\"Name: {name}, Color: {colour}, Pattern: {pattern}, Fabric: {fabric}, Fit: {fit}, Type: {type}\")\n",
    "    return embedding.tolist()[0]"
   ]
  },
  {
   "cell_type": "code",
   "execution_count": null,
   "metadata": {},
   "outputs": [],
   "source": [
    "list_of_products = [0, 3, 4, 5, 8, 9]"
   ]
  },
  {
   "cell_type": "code",
   "execution_count": null,
   "metadata": {},
   "outputs": [],
   "source": [
    "for i in list_of_products:\n",
    "    user_profile4_bottom.append(embed_product_details(df5.iloc[i]))"
   ]
  },
  {
   "cell_type": "code",
   "execution_count": null,
   "metadata": {},
   "outputs": [],
   "source": [
    "mean_pooling(user_profile1_top).tolist()"
   ]
  },
  {
   "cell_type": "code",
   "execution_count": 12,
   "metadata": {},
   "outputs": [
    {
     "data": {
      "text/plain": [
       "'8d722619-721c-5bcc-a866-fc53263f58b7'"
      ]
     },
     "execution_count": 12,
     "metadata": {},
     "output_type": "execute_result"
    }
   ],
   "source": [
    "client.data_object.create(\n",
    "    {\n",
    "        \"name\":\"Ginny Weasley\",\n",
    "        \"gender\":\"Female\",\n",
    "        \"age\":\"32\",\n",
    "        \"category\":\"Bottom\"\n",
    "    },\n",
    "    class_name=\"Customer_Profile\",\n",
    "    uuid=generate_uuid5(\"Female Profile 2 Bottom\"),\n",
    "    vector=getTextEmbeddings(\"Jeans, tight and loose fit but jeans\")\n",
    ")"
   ]
  },
  {
   "cell_type": "code",
   "execution_count": null,
   "metadata": {},
   "outputs": [],
   "source": []
  }
 ],
 "metadata": {
  "kernelspec": {
   "display_name": "Python 3",
   "language": "python",
   "name": "python3"
  },
  "language_info": {
   "codemirror_mode": {
    "name": "ipython",
    "version": 3
   },
   "file_extension": ".py",
   "mimetype": "text/x-python",
   "name": "python",
   "nbconvert_exporter": "python",
   "pygments_lexer": "ipython3",
   "version": "3.9.9"
  },
  "orig_nbformat": 4
 },
 "nbformat": 4,
 "nbformat_minor": 2
}
