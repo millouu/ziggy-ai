{
 "cells": [
  {
   "cell_type": "code",
   "execution_count": 1,
   "metadata": {},
   "outputs": [],
   "source": [
    "import time\n",
    "from selenium import webdriver\n",
    "from selenium.webdriver.common.by import By\n",
    "import json\n",
    "import os\n",
    "from selenium.webdriver.support import expected_conditions as EC\n",
    "from selenium.webdriver.support.wait import WebDriverWait\n",
    "from selenium.webdriver.common.keys import Keys\n",
    "import pandas as pd\n",
    "from dotenv import load_dotenv\n",
    "load_dotenv()\n",
    "\n",
    "import re\n",
    "import requests\n",
    "from PIL import Image"
   ]
  },
  {
   "cell_type": "code",
   "execution_count": null,
   "metadata": {},
   "outputs": [],
   "source": [
    "PATH = \"C:/Program Files/Chrome Webdriver\"\n",
    "os.environ['PATH'] += PATH"
   ]
  },
  {
   "cell_type": "code",
   "execution_count": null,
   "metadata": {},
   "outputs": [],
   "source": [
    "driver = webdriver.Chrome()"
   ]
  },
  {
   "cell_type": "code",
   "execution_count": null,
   "metadata": {},
   "outputs": [],
   "source": [
    "driver.get(\"https://in.pinterest.com/\")"
   ]
  },
  {
   "cell_type": "code",
   "execution_count": null,
   "metadata": {},
   "outputs": [],
   "source": [
    "driver.find_element(By.XPATH, \"//*[contains(text(), 'Log in')]\").click()"
   ]
  },
  {
   "cell_type": "code",
   "execution_count": null,
   "metadata": {},
   "outputs": [],
   "source": [
    "driver.find_element(By.ID, \"email\").send_keys(os.environ.get('PINTEREST_USERNAME'))\n",
    "driver.find_element(By.ID, \"password\").send_keys(os.environ.get('PINTEREST_PASSWORD'))"
   ]
  },
  {
   "cell_type": "code",
   "execution_count": null,
   "metadata": {},
   "outputs": [],
   "source": [
    "elements = driver.find_elements(By.CSS_SELECTOR, \"img\")"
   ]
  },
  {
   "cell_type": "code",
   "execution_count": null,
   "metadata": {},
   "outputs": [],
   "source": [
    "def get_last_url(url_string):\n",
    "    urls = re.findall(r'https:\\/\\/[^\\s]+', url_string)\n",
    "    if urls:\n",
    "        return urls[-1]\n",
    "    else:\n",
    "        return None"
   ]
  },
  {
   "cell_type": "code",
   "execution_count": null,
   "metadata": {},
   "outputs": [],
   "source": [
    "data = {\n",
    "    \"Image Source\": [],\n",
    "    \"Image Alt Text\": []\n",
    "}\n",
    "\n",
    "df = pd.DataFrame(data)\n",
    "unique_elements = []\n",
    "\n",
    "while True:\n",
    "    try:\n",
    "        elements = driver.find_elements(By.CSS_SELECTOR, \"img\")\n",
    "        for element in elements:\n",
    "            src = get_last_url(element.get_attribute(\"srcset\"))\n",
    "            alt = element.get_attribute(\"alt\")\n",
    "            if src not in df[\"Image Source\"].values:  # Check if src is not already in the DataFrame\n",
    "                unique_elements.append(src)\n",
    "                df = df.append({\"Image Source\": src, \"Image Alt Text\": alt}, ignore_index=True)\n",
    "                print(alt)\n",
    "        driver.find_element(By.CSS_SELECTOR, \"body\").send_keys(Keys.PAGE_DOWN)\n",
    "        print(len(df))\n",
    "        df.to_csv(\"girls_collegewear.csv\", index=False)  # Save DataFrame to CSV after each iteration\n",
    "    except:\n",
    "        pass"
   ]
  },
  {
   "cell_type": "code",
   "execution_count": 2,
   "metadata": {},
   "outputs": [],
   "source": [
    "df = pd.read_csv(\"girls_collegewear.csv\")"
   ]
  },
  {
   "cell_type": "code",
   "execution_count": 3,
   "metadata": {},
   "outputs": [],
   "source": [
    "urls = df[\"Image Source\"].tolist()"
   ]
  },
  {
   "cell_type": "code",
   "execution_count": null,
   "metadata": {},
   "outputs": [],
   "source": [
    "# urls = re.findall(r'https?://\\S+', unique_elements)"
   ]
  },
  {
   "cell_type": "code",
   "execution_count": null,
   "metadata": {},
   "outputs": [],
   "source": [
    "# cleaned_urls = [url.strip(\",'\") for url in urls]"
   ]
  },
  {
   "cell_type": "code",
   "execution_count": null,
   "metadata": {},
   "outputs": [],
   "source": [
    "# len(unique_urls)"
   ]
  },
  {
   "cell_type": "code",
   "execution_count": 4,
   "metadata": {},
   "outputs": [
    {
     "name": "stdout",
     "output_type": "stream",
     "text": [
      "Error: nan\n"
     ]
    }
   ],
   "source": [
    "for i, url in enumerate(urls):\n",
    "    with open(f'girls_collegewear\\\\image_{i}.jpg', 'wb') as f:\n",
    "        try:\n",
    "            f.write(requests.get(url=url).content)\n",
    "        except:\n",
    "            print(f'Error: {url}')"
   ]
  },
  {
   "cell_type": "code",
   "execution_count": null,
   "metadata": {},
   "outputs": [],
   "source": []
  }
 ],
 "metadata": {
  "kernelspec": {
   "display_name": "Python 3",
   "language": "python",
   "name": "python3"
  },
  "language_info": {
   "codemirror_mode": {
    "name": "ipython",
    "version": 3
   },
   "file_extension": ".py",
   "mimetype": "text/x-python",
   "name": "python",
   "nbconvert_exporter": "python",
   "pygments_lexer": "ipython3",
   "version": "3.9.9"
  },
  "orig_nbformat": 4
 },
 "nbformat": 4,
 "nbformat_minor": 2
}
