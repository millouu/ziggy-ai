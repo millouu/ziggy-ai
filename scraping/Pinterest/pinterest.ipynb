{
 "cells": [
  {
   "cell_type": "code",
   "execution_count": 11,
   "metadata": {},
   "outputs": [],
   "source": [
    "import time\n",
    "from selenium import webdriver\n",
    "from selenium.webdriver.common.by import By\n",
    "import json\n",
    "import os\n",
    "from selenium.webdriver.support import expected_conditions as EC\n",
    "from selenium.webdriver.support.wait import WebDriverWait\n",
    "from selenium.webdriver.common.keys import Keys\n",
    "import pandas as pd\n",
    "\n",
    "import re\n",
    "import requests\n",
    "from PIL import Image"
   ]
  },
  {
   "cell_type": "code",
   "execution_count": null,
   "metadata": {},
   "outputs": [],
   "source": [
    "PATH = \"C:/Program Files/Chrome Webdriver\"\n",
    "os.environ['PATH'] += PATH"
   ]
  },
  {
   "cell_type": "code",
   "execution_count": null,
   "metadata": {},
   "outputs": [],
   "source": [
    "driver = webdriver.Chrome()"
   ]
  },
  {
   "cell_type": "code",
   "execution_count": null,
   "metadata": {},
   "outputs": [],
   "source": [
    "driver.get(\"https://in.pinterest.com/\")"
   ]
  },
  {
   "cell_type": "code",
   "execution_count": null,
   "metadata": {},
   "outputs": [],
   "source": [
    "driver.find_element(By.XPATH, \"//*[contains(text(), 'Log in')]\").click()"
   ]
  },
  {
   "cell_type": "code",
   "execution_count": null,
   "metadata": {},
   "outputs": [],
   "source": [
    "driver.find_element(By.ID, \"email\").send_keys(\"rathijayesh.ramanuja2020@vitstudent.ac.in\")\n",
    "driver.find_element(By.ID, \"password\").send_keys(\"Qwerty123!\")"
   ]
  },
  {
   "cell_type": "code",
   "execution_count": null,
   "metadata": {},
   "outputs": [],
   "source": [
    "with open('image.jpg', 'wb') as f:\n",
    "    f.write(requests.get(url=url).content)"
   ]
  },
  {
   "cell_type": "code",
   "execution_count": null,
   "metadata": {},
   "outputs": [],
   "source": [
    "data = {\n",
    "    \"Image Source\": [],\n",
    "    \"Image Alt Text\": []\n",
    "}\n",
    "\n",
    "df = pd.DataFrame(data)\n",
    "unique_elements = []\n",
    "\n",
    "while True:\n",
    "    try:\n",
    "        elements = driver.find_elements(By.CSS_SELECTOR, \"img\")\n",
    "        for element in elements:\n",
    "            src = element.get_attribute(\"src\")\n",
    "            alt = element.get_attribute(\"alt\")\n",
    "            if src not in df[\"Image Source\"].values:  # Check if src is not already in the DataFrame\n",
    "                unique_elements.append(src)\n",
    "                df = df.append({\"Image Source\": src, \"Image Alt Text\": alt}, ignore_index=True)\n",
    "                print(alt)\n",
    "        driver.find_element(By.CSS_SELECTOR, \"body\").send_keys(Keys.PAGE_DOWN)\n",
    "        print(len(df))\n",
    "        df.to_csv(\"mens_formal.csv\", index=False)  # Save DataFrame to CSV after each iteration\n",
    "        with open(\"mens_formal1.txt\", \"w\") as file:\n",
    "            file.write(\"\\n\".join(unique_elements))  # Save unique elements to TXT after each iteration\n",
    "    except:\n",
    "        pass"
   ]
  },
  {
   "cell_type": "code",
   "execution_count": 12,
   "metadata": {},
   "outputs": [],
   "source": [
    "df = pd.read_csv(\"mens_traditional.csv\")"
   ]
  },
  {
   "cell_type": "code",
   "execution_count": 13,
   "metadata": {},
   "outputs": [],
   "source": [
    "urls = df[\"Image Source\"].tolist()"
   ]
  },
  {
   "cell_type": "code",
   "execution_count": null,
   "metadata": {},
   "outputs": [],
   "source": [
    "# urls = re.findall(r'https?://\\S+', unique_elements)"
   ]
  },
  {
   "cell_type": "code",
   "execution_count": null,
   "metadata": {},
   "outputs": [],
   "source": [
    "# cleaned_urls = [url.strip(\",'\") for url in urls]"
   ]
  },
  {
   "cell_type": "code",
   "execution_count": null,
   "metadata": {},
   "outputs": [],
   "source": [
    "# len(unique_urls)"
   ]
  },
  {
   "cell_type": "code",
   "execution_count": 10,
   "metadata": {},
   "outputs": [],
   "source": [
    "for i, url in enumerate(urls):\n",
    "    with open(f'mens_traditional\\\\image_{i}.jpg', 'wb') as f:\n",
    "        f.write(requests.get(url=url).content)"
   ]
  },
  {
   "cell_type": "code",
   "execution_count": null,
   "metadata": {},
   "outputs": [],
   "source": []
  }
 ],
 "metadata": {
  "kernelspec": {
   "display_name": "Python 3",
   "language": "python",
   "name": "python3"
  },
  "language_info": {
   "codemirror_mode": {
    "name": "ipython",
    "version": 3
   },
   "file_extension": ".py",
   "mimetype": "text/x-python",
   "name": "python",
   "nbconvert_exporter": "python",
   "pygments_lexer": "ipython3",
   "version": "3.9.9"
  },
  "orig_nbformat": 4
 },
 "nbformat": 4,
 "nbformat_minor": 2
}
