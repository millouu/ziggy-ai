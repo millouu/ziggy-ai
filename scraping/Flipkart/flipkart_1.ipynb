{
 "cells": [
  {
   "cell_type": "code",
   "execution_count": 2,
   "metadata": {},
   "outputs": [],
   "source": [
    "import time\n",
    "from selenium import webdriver\n",
    "from selenium.webdriver.common.by import By\n",
    "import json\n",
    "import os\n",
    "from selenium.webdriver.support import expected_conditions as EC\n",
    "from selenium.webdriver.support.wait import WebDriverWait\n",
    "from selenium.webdriver.common.keys import Keys\n",
    "import pandas as pd\n",
    "\n",
    "import re\n",
    "import requests\n",
    "from PIL import Image"
   ]
  },
  {
   "cell_type": "code",
   "execution_count": 3,
   "metadata": {},
   "outputs": [],
   "source": [
    "PATH = \"C:/Program Files/Chrome Webdriver\"\n",
    "os.environ['PATH'] += PATH"
   ]
  },
  {
   "cell_type": "code",
   "execution_count": 4,
   "metadata": {},
   "outputs": [],
   "source": [
    "driver = webdriver.Chrome()"
   ]
  },
  {
   "cell_type": "code",
   "execution_count": 17,
   "metadata": {},
   "outputs": [],
   "source": [
    "df = pd.read_csv(\"Traditional.csv\")"
   ]
  },
  {
   "cell_type": "code",
   "execution_count": 18,
   "metadata": {},
   "outputs": [
    {
     "data": {
      "text/html": [
       "<div>\n",
       "<style scoped>\n",
       "    .dataframe tbody tr th:only-of-type {\n",
       "        vertical-align: middle;\n",
       "    }\n",
       "\n",
       "    .dataframe tbody tr th {\n",
       "        vertical-align: top;\n",
       "    }\n",
       "\n",
       "    .dataframe thead th {\n",
       "        text-align: right;\n",
       "    }\n",
       "</style>\n",
       "<table border=\"1\" class=\"dataframe\">\n",
       "  <thead>\n",
       "    <tr style=\"text-align: right;\">\n",
       "      <th></th>\n",
       "      <th>URL</th>\n",
       "      <th>Brand</th>\n",
       "      <th>Name</th>\n",
       "      <th>Price</th>\n",
       "      <th>Rating</th>\n",
       "      <th>Reviews</th>\n",
       "      <th>Specifications</th>\n",
       "    </tr>\n",
       "  </thead>\n",
       "  <tbody>\n",
       "    <tr>\n",
       "      <th>0</th>\n",
       "      <td>NaN</td>\n",
       "      <td>NaN</td>\n",
       "      <td>NaN</td>\n",
       "      <td>NaN</td>\n",
       "      <td>NaN</td>\n",
       "      <td>NaN</td>\n",
       "      <td>NaN</td>\n",
       "    </tr>\n",
       "    <tr>\n",
       "      <th>1</th>\n",
       "      <td>NaN</td>\n",
       "      <td>NaN</td>\n",
       "      <td>NaN</td>\n",
       "      <td>NaN</td>\n",
       "      <td>NaN</td>\n",
       "      <td>NaN</td>\n",
       "      <td>NaN</td>\n",
       "    </tr>\n",
       "    <tr>\n",
       "      <th>2</th>\n",
       "      <td>https://www.flipkart.com/vastramay-men-dhoti-k...</td>\n",
       "      <td>VASTRAMAY</td>\n",
       "      <td>Men Silk Blend Dhoti &amp; Kurta Set</td>\n",
       "      <td>₹1,849₹3,79851% off</td>\n",
       "      <td>4.131 ratings and 1 reviews</td>\n",
       "      <td>31 ratings and 1 reviews</td>\n",
       "      <td>{'Fabric': 'Silk Blend', 'Type': 'Dhoti &amp; Kurt...</td>\n",
       "    </tr>\n",
       "    <tr>\n",
       "      <th>3</th>\n",
       "      <td>https://www.flipkart.com/white-zone-men-kurta-...</td>\n",
       "      <td>white-zone</td>\n",
       "      <td>Men Satin Kurta and Pyjama Set</td>\n",
       "      <td>₹1,399₹2,14934% off</td>\n",
       "      <td>4.2200 ratings and 28 reviews</td>\n",
       "      <td>200 ratings and 28 reviews</td>\n",
       "      <td>{'Fabric': 'Satin', 'Type': 'Kurta and Pyjama ...</td>\n",
       "    </tr>\n",
       "    <tr>\n",
       "      <th>4</th>\n",
       "      <td>https://www.flipkart.com/sg-leman-men-kurta-py...</td>\n",
       "      <td>SG LEMAN</td>\n",
       "      <td>Men Pure Cotton Kurta and Pyjama Set</td>\n",
       "      <td>₹749₹2,39968% off</td>\n",
       "      <td>3.8138 ratings and 12 reviews</td>\n",
       "      <td>138 ratings and 12 reviews</td>\n",
       "      <td>{'Fabric': 'Pure Cotton', 'Type': 'Kurta and P...</td>\n",
       "    </tr>\n",
       "  </tbody>\n",
       "</table>\n",
       "</div>"
      ],
      "text/plain": [
       "                                                 URL        Brand  \\\n",
       "0                                                NaN          NaN   \n",
       "1                                                NaN          NaN   \n",
       "2  https://www.flipkart.com/vastramay-men-dhoti-k...   VASTRAMAY    \n",
       "3  https://www.flipkart.com/white-zone-men-kurta-...  white-zone    \n",
       "4  https://www.flipkart.com/sg-leman-men-kurta-py...    SG LEMAN    \n",
       "\n",
       "                                   Name                Price  \\\n",
       "0                                   NaN                  NaN   \n",
       "1                                   NaN                  NaN   \n",
       "2      Men Silk Blend Dhoti & Kurta Set  ₹1,849₹3,79851% off   \n",
       "3        Men Satin Kurta and Pyjama Set  ₹1,399₹2,14934% off   \n",
       "4  Men Pure Cotton Kurta and Pyjama Set    ₹749₹2,39968% off   \n",
       "\n",
       "                          Rating                     Reviews  \\\n",
       "0                            NaN                         NaN   \n",
       "1                            NaN                         NaN   \n",
       "2    4.131 ratings and 1 reviews    31 ratings and 1 reviews   \n",
       "3  4.2200 ratings and 28 reviews  200 ratings and 28 reviews   \n",
       "4  3.8138 ratings and 12 reviews  138 ratings and 12 reviews   \n",
       "\n",
       "                                      Specifications  \n",
       "0                                                NaN  \n",
       "1                                                NaN  \n",
       "2  {'Fabric': 'Silk Blend', 'Type': 'Dhoti & Kurt...  \n",
       "3  {'Fabric': 'Satin', 'Type': 'Kurta and Pyjama ...  \n",
       "4  {'Fabric': 'Pure Cotton', 'Type': 'Kurta and P...  "
      ]
     },
     "execution_count": 18,
     "metadata": {},
     "output_type": "execute_result"
    }
   ],
   "source": [
    "df.head()"
   ]
  },
  {
   "cell_type": "code",
   "execution_count": 19,
   "metadata": {},
   "outputs": [],
   "source": [
    "def get_details(url, i, name):\n",
    "    driver.get(url)\n",
    "    images = driver.find_element(By.CLASS_NAME, \"_2mLllQ\")\n",
    "    image_links = images.find_elements(By.TAG_NAME, 'img')\n",
    "    for count, image in enumerate(image_links):\n",
    "        link = image.get_attribute('src')\n",
    "        better_link = link.replace('128/128', '832/832')\n",
    "        with open(f'flipkart_images\\\\Mens Traditional\\\\{i}_{name}_{count}.jpg', 'wb') as f:\n",
    "            f.write(requests.get(better_link).content)"
   ]
  },
  {
   "cell_type": "code",
   "execution_count": 20,
   "metadata": {},
   "outputs": [
    {
     "name": "stdout",
     "output_type": "stream",
     "text": [
      "Skipped 0\n",
      "Skipped 1\n",
      "Skipped 6\n",
      "Skipped 8\n",
      "Skipped 11\n",
      "Skipped 12\n",
      "Skipped 13\n",
      "Skipped 15\n",
      "Skipped 18\n",
      "Skipped 19\n",
      "Skipped 22\n",
      "Skipped 23\n",
      "Skipped 24\n",
      "Skipped 25\n",
      "Skipped 28\n",
      "Skipped 29\n",
      "Skipped 31\n",
      "Skipped 36\n",
      "Skipped 39\n",
      "Skipped 42\n",
      "Skipped 45\n",
      "Skipped 46\n",
      "Skipped 50\n",
      "Skipped 52\n",
      "Skipped 53\n",
      "Skipped 55\n",
      "Skipped 56\n",
      "Skipped 61\n",
      "Skipped 67\n",
      "Skipped 72\n",
      "Skipped 76\n"
     ]
    }
   ],
   "source": [
    "for index, row in df.iterrows():\n",
    "    try:\n",
    "        get_details(row[\"URL\"], index, row[\"Name\"])\n",
    "    except:\n",
    "        print(f\"Skipped {index}\")\n",
    "        pass\n",
    "    \n"
   ]
  }
 ],
 "metadata": {
  "kernelspec": {
   "display_name": "Python 3",
   "language": "python",
   "name": "python3"
  },
  "language_info": {
   "codemirror_mode": {
    "name": "ipython",
    "version": 3
   },
   "file_extension": ".py",
   "mimetype": "text/x-python",
   "name": "python",
   "nbconvert_exporter": "python",
   "pygments_lexer": "ipython3",
   "version": "3.9.9"
  },
  "orig_nbformat": 4
 },
 "nbformat": 4,
 "nbformat_minor": 2
}
