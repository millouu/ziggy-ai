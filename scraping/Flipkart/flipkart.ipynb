{
 "cells": [
  {
   "cell_type": "code",
   "execution_count": 1,
   "metadata": {},
   "outputs": [],
   "source": [
    "import time\n",
    "from selenium import webdriver\n",
    "from selenium.webdriver.common.by import By\n",
    "import json\n",
    "import os\n",
    "from selenium.webdriver.support import expected_conditions as EC\n",
    "from selenium.webdriver.support.wait import WebDriverWait\n",
    "from selenium.webdriver.common.keys import Keys\n",
    "import pandas as pd\n",
    "\n",
    "import re\n",
    "import requests\n",
    "from PIL import Image"
   ]
  },
  {
   "cell_type": "code",
   "execution_count": 2,
   "metadata": {},
   "outputs": [],
   "source": [
    "PATH = \"C:/Program Files/Chrome Webdriver\"\n",
    "os.environ['PATH'] += PATH"
   ]
  },
  {
   "cell_type": "code",
   "execution_count": 3,
   "metadata": {},
   "outputs": [
    {
     "name": "stderr",
     "output_type": "stream",
     "text": [
      "Error getting version of chromedriver 115. Retrying with chromedriver 114 (attempt 1/5)\n"
     ]
    }
   ],
   "source": [
    "driver = webdriver.Chrome()"
   ]
  },
  {
   "cell_type": "code",
   "execution_count": 4,
   "metadata": {},
   "outputs": [],
   "source": [
    "driver.get(\"https://www.flipkart.com/\")"
   ]
  },
  {
   "cell_type": "code",
   "execution_count": 38,
   "metadata": {},
   "outputs": [],
   "source": [
    "driver.get(current_url)"
   ]
  },
  {
   "cell_type": "code",
   "execution_count": 5,
   "metadata": {},
   "outputs": [],
   "source": [
    "current_url = driver.current_url"
   ]
  },
  {
   "cell_type": "code",
   "execution_count": 39,
   "metadata": {},
   "outputs": [],
   "source": [
    "main_part = driver.find_element(By.XPATH, \"/html/body/div/div/div[3]/div[1]/div[2]\")"
   ]
  },
  {
   "cell_type": "code",
   "execution_count": 40,
   "metadata": {},
   "outputs": [],
   "source": [
    "clothes = main_part.find_elements(By.CLASS_NAME, \"IRpwTa\")"
   ]
  },
  {
   "cell_type": "code",
   "execution_count": 41,
   "metadata": {},
   "outputs": [],
   "source": [
    "links = []\n",
    "for link in clothes:\n",
    "    links.append(link.get_attribute('href'))"
   ]
  },
  {
   "cell_type": "code",
   "execution_count": 9,
   "metadata": {},
   "outputs": [],
   "source": [
    "def get_details(url, i):\n",
    "    driver.get(url)\n",
    "    metadata = {}\n",
    "    try:\n",
    "        metadata[\"URL\"] = url\n",
    "        metadata[\"Brand\"] = driver.find_element(By.CLASS_NAME, \"G6XhRU\").text\n",
    "        metadata[\"Name\"] = driver.find_element(By.CLASS_NAME, \"B_NuCI\").text\n",
    "        metadata[\"Price\"] = driver.find_element(By.CLASS_NAME, \"_25b18c\").text\n",
    "        metadata[\"Rating\"] = driver.find_element(By.CLASS_NAME, \"_3_L3jD\").text\n",
    "        metadata[\"Reviews\"] = driver.find_element(By.CLASS_NAME, \"_2_R_DZ\").text\n",
    "        driver.find_element(By.CLASS_NAME, \"_2yIA0Y\").click()\n",
    "        buttons = driver.find_elements(By.TAG_NAME, \"button\")\n",
    "        for button in buttons:\n",
    "            if button.text == \"Read More\":\n",
    "                button.click()\n",
    "                break\n",
    "        product = driver.find_element(By.CLASS_NAME, \"X3BRps\")\n",
    "        data = product.find_elements(By.CLASS_NAME, \"row\")\n",
    "        dict = {}\n",
    "        for row in data:\n",
    "            pair = row.text.split('\\n')\n",
    "            dict[pair[0]] = pair[1]\n",
    "        metadata[\"Specifications\"] = str(dict)\n",
    "        images = driver.find_element(By.CLASS_NAME, \"_2mLllQ\")\n",
    "        image_links = images.find_elements(By.TAG_NAME, 'img')\n",
    "        for count, image in enumerate(image_links):\n",
    "            link = image.get_attribute('src')\n",
    "            better_link = link.replace('128/128', '832/832')\n",
    "            with open(f'flipkart_images\\\\{i}_{metadata[\"Name\"]}_{count}.jpg', 'wb') as f:\n",
    "                f.write(requests.get(better_link).content)\n",
    "        return metadata\n",
    "    except:\n",
    "        print(\"Skipped\")"
   ]
  },
  {
   "cell_type": "code",
   "execution_count": 23,
   "metadata": {},
   "outputs": [],
   "source": [
    "df = pd.DataFrame(columns=[\"URL\", \"Brand\", \"Name\", \"Price\", \"Rating\", \"Reviews\", \"Specifications\"])"
   ]
  },
  {
   "cell_type": "code",
   "execution_count": 42,
   "metadata": {},
   "outputs": [
    {
     "name": "stdout",
     "output_type": "stream",
     "text": [
      "Skipped\n",
      "Skipped\n"
     ]
    }
   ],
   "source": [
    "for i, link in enumerate(links):\n",
    "    metadata = get_details(link, i + 120)\n",
    "    df = pd.concat([df, pd.DataFrame(metadata, index=[0])], ignore_index=True)\n"
   ]
  },
  {
   "cell_type": "code",
   "execution_count": 37,
   "metadata": {},
   "outputs": [],
   "source": [
    "df.to_csv('Girls Bottoms.csv', index=False)"
   ]
  },
  {
   "cell_type": "code",
   "execution_count": null,
   "metadata": {},
   "outputs": [],
   "source": [
    "driver.get(links[0])"
   ]
  },
  {
   "cell_type": "code",
   "execution_count": null,
   "metadata": {},
   "outputs": [],
   "source": [
    "images = driver.find_element(By.CLASS_NAME, \"_2mLllQ\")"
   ]
  },
  {
   "cell_type": "code",
   "execution_count": null,
   "metadata": {},
   "outputs": [],
   "source": [
    "image_links = images.find_elements(By.TAG_NAME, 'img')"
   ]
  },
  {
   "cell_type": "code",
   "execution_count": null,
   "metadata": {},
   "outputs": [],
   "source": [
    "for count, image in enumerate(image_links):\n",
    "    link = image.get_attribute('src')\n",
    "    with open(f'flipkart_images\\\\{metadata[\"name\"]}_{count}.jpg', 'wb') as f:\n",
    "        f.write(requests.get(link).content)"
   ]
  },
  {
   "cell_type": "code",
   "execution_count": null,
   "metadata": {},
   "outputs": [],
   "source": [
    "product = driver.find_element(By.CLASS_NAME, \"X3BRps\")"
   ]
  },
  {
   "cell_type": "code",
   "execution_count": null,
   "metadata": {},
   "outputs": [],
   "source": [
    "data = product.find_elements(By.CLASS_NAME, \"row\")"
   ]
  },
  {
   "cell_type": "code",
   "execution_count": null,
   "metadata": {},
   "outputs": [],
   "source": [
    "dict = {}\n",
    "for row in data:\n",
    "    print(row.text)\n",
    "    pair = row.text.split('\\n')\n",
    "    dict[pair[0]] = pair[1]"
   ]
  },
  {
   "cell_type": "code",
   "execution_count": null,
   "metadata": {},
   "outputs": [],
   "source": []
  }
 ],
 "metadata": {
  "kernelspec": {
   "display_name": "Python 3",
   "language": "python",
   "name": "python3"
  },
  "language_info": {
   "codemirror_mode": {
    "name": "ipython",
    "version": 3
   },
   "file_extension": ".py",
   "mimetype": "text/x-python",
   "name": "python",
   "nbconvert_exporter": "python",
   "pygments_lexer": "ipython3",
   "version": "3.9.9"
  },
  "orig_nbformat": 4
 },
 "nbformat": 4,
 "nbformat_minor": 2
}
