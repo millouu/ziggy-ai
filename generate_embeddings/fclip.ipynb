{
 "cells": [
  {
   "cell_type": "code",
   "execution_count": 9,
   "metadata": {},
   "outputs": [
    {
     "name": "stdout",
     "output_type": "stream",
     "text": [
      "tensor([[5.1264e-03, 9.9487e-01, 1.0512e-07, 3.0413e-14],\n",
      "        [3.4284e-12, 5.5845e-12, 9.5987e-03, 9.9040e-01],\n",
      "        [9.4266e-03, 9.9057e-01, 6.0318e-09, 4.0575e-15]],\n",
      "       grad_fn=<SoftmaxBackward0>)\n"
     ]
    }
   ],
   "source": [
    "from PIL import Image\n",
    "import requests\n",
    "\n",
    "from transformers import CLIPProcessor, CLIPModel\n",
    "\n",
    "checkpoint = \"patrickjohncyh/fashion-clip\"\n",
    "\n",
    "model = CLIPModel.from_pretrained(checkpoint)\n",
    "processor = CLIPProcessor.from_pretrained(checkpoint)\n",
    "\n",
    "url = \"https://d1pdzcnm6xgxlz.cloudfront.net/tops/8905074863310-18.jpg\"\n",
    "image = Image.open(requests.get(url, stream=True).raw)\n",
    "\n",
    "image2 = Image.open(requests.get(\"https://www.kreeva.com/blog/wp-content/uploads/2021/10/stylish-dresses-for-Diwali.jpg\", stream=True).raw)\n",
    "\n",
    "image3 = Image.open(\"top_wear.png\")\n",
    "\n",
    "inputs = processor(text=[\"a blue shirt\", \"a blue shirt with white strips\" , \"Diwali clothes\" , \"Pink chunri diwali lehenga\"], images=[image ,image2 , image3], return_tensors=\"pt\", padding=True)\n",
    "\n",
    "outputs = model(**inputs)\n",
    "logits_per_image = outputs.logits_per_image  # this is the image-text similarity score\n",
    "probs = logits_per_image.softmax(dim=1)  # we can take the softmax to get the label probabilities\n",
    "print(probs)"
   ]
  }
 ],
 "metadata": {
  "kernelspec": {
   "display_name": "Python 3",
   "language": "python",
   "name": "python3"
  },
  "language_info": {
   "codemirror_mode": {
    "name": "ipython",
    "version": 3
   },
   "file_extension": ".py",
   "mimetype": "text/x-python",
   "name": "python",
   "nbconvert_exporter": "python",
   "pygments_lexer": "ipython3",
   "version": "3.10.9"
  },
  "orig_nbformat": 4
 },
 "nbformat": 4,
 "nbformat_minor": 2
}
